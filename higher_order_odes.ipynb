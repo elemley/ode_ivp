{
 "cells": [
  {
   "cell_type": "markdown",
   "metadata": {},
   "source": [
    "# Higher Order ODEs\n",
    "\n",
    "So far we have only applied ODE solving techniques to first order ODEs, but it's not too hard to apply them to second and higher order problems.\n",
    "\n",
    "$\\large \\frac{d^2y}{dx^2} = f(x,y,\\frac{dy}{dx})$\n",
    "\n",
    "Let's say you want to solve such an ODE over the domain $[a,b]$. For an initial value problem you need the value of $y$ and $\\frac{dy}{dx}$ at the first point in the domain, $a$.\n",
    "\n",
    "$\\large y(a) = A~~~$ and $~~~\\large \\frac{dy}{dx}\\rvert_{x=a} = B$\n",
    "\n",
    "What we do now is transform the 2nd order ODE into two first order ODEs as follows:\n",
    "\n",
    "First define, $w$\n",
    "\n",
    "$\\large w = \\frac{dy}{dx}$\n",
    "\n",
    "So that now the original equation can be written as:\n",
    "\n",
    "$\\large \\frac{dw}{dx} = \\frac{d^2y}{dx^2}$\n",
    "\n",
    "\n",
    "Now the IVP us transformed to solving the two following ODEs:\n",
    "\n",
    "\n",
    "$\\large \\frac{dy}{dx} = w~~~~~~y(a) = A$\n",
    "\n",
    "$\\large \\frac{dw}{dx} = f(x,y,w)~~~~~w(a)=B$\n",
    "\n",
    "Now we can solve these two ODEs simultaneously using any of the techniques we have used before: Heun's method, RK, etc...\n",
    "\n",
    "\n",
    "\n"
   ]
  },
  {
   "cell_type": "markdown",
   "metadata": {},
   "source": [
    "## Project Prep\n",
    "\n",
    "The project will involve modeling a certain system that serves as a model for many real applications - a spring-mass-damper system. To start with we will model the non-forced (i.e. $F=0$) as shown below:\n",
    "\n",
    "![image info](./spring_mass_damper.png)\n",
    "\n",
    "The governing equation for determining the x versus time is: \n",
    "\n",
    "$\\large \\frac{d^2x}{dt^2} + 2 \\gamma \\frac{dx}{dt} + k^2 x = F(t)$\n",
    "\n",
    "Here, $k$ is the spring constant, and $\\gamma$ is the damping factor.\n",
    "\n",
    "For now take the values above as follows:\n",
    "\n",
    "$k^2 = $48 N/m/kg\n",
    "\n",
    "$\\gamma = $0.7 1/s\n",
    "\n",
    "$x(0)=0$\n",
    "\n",
    "$\\frac{dx}{dt}\\rvert_{t=0}$=0.2 m/s\n",
    "\n",
    "$0 <= t <= 5$ s\n",
    "\n",
    "$F(t) = 0$\n",
    "\n",
    "### Assignment\n",
    "By Wednesday Dec. 1, solve the 2nd order ODE above using RK3 for the specified values.\n",
    "\n"
   ]
  },
  {
   "cell_type": "code",
   "execution_count": null,
   "metadata": {},
   "outputs": [],
   "source": []
  }
 ],
 "metadata": {
  "kernelspec": {
   "display_name": "Python 3",
   "language": "python",
   "name": "python3"
  },
  "language_info": {
   "codemirror_mode": {
    "name": "ipython",
    "version": 3
   },
   "file_extension": ".py",
   "mimetype": "text/x-python",
   "name": "python",
   "nbconvert_exporter": "python",
   "pygments_lexer": "ipython3",
   "version": "3.8.6"
  }
 },
 "nbformat": 4,
 "nbformat_minor": 4
}
