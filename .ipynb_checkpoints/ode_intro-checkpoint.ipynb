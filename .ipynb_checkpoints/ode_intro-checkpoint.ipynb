{
 "cells": [
  {
   "cell_type": "markdown",
   "metadata": {},
   "source": [
    "# Ordinary Differential Equations - Initial Value Problems\n",
    "\n",
    "An Ordinary Differential Equation (ODE) is one in which there are no partial derivatives. A linear ODE is one in which *y* and all its derivatives are first order. In general this would be\n",
    "\n",
    "$ a_0(x) y + a_1(x) y' + a_2(x) y'' + ... + a_n(x) y^{(n)} + b(x) = 0 $\n",
    "\n",
    "The $a_i(x)$ and $b(x)$ do not need to be linear. Above is an *nth* order linear ODE.\n",
    "\n",
    "In this module we will be focused on solving linear first order ODEs\n",
    "\n",
    "$ a_0(x) y + a_1(x) y' + b(x) = 0$\n",
    "\n",
    "Even more specifically, we will focus on *Initial Value Problems (IVP)* in which *y* is known at some initial value.\n",
    "\n",
    "$y'=f(x,y)=\\frac{-a_0(x)y-b(x)}{a_1(x)} ~~~~~ y(x_1) = y_1 $"
   ]
  },
  {
   "cell_type": "markdown",
   "metadata": {},
   "source": [
    "## ODE Examples\n",
    "\n",
    "Let's start with a common ODE that you have probably solved before. This is one where all we need to do is be able to integrate.\n",
    "\n",
    "$ \\frac{dy}{dx} = \\frac{1}{x}~~~~~~~~~ dy = \\frac{dx}{x}~~~~~~~~~ \\int dy = \\int \\frac{dx}{x}~~~~~~~~~ y=\\ln{x} + C  $\n",
    "\n",
    "So we end up with a solution for $y$ but we don't know what $C$ is. The way we can know $C$ is by specifying an *initial condition*. For example, if we knew\n",
    "\n",
    "$ y(x=2.0)=0~~~~~~ 0 = ln(2.0) + C~~~~~~C = -ln(2.0) = -0.6931 $\n",
    "\n",
    "So that the particular solution is\n",
    "\n",
    "$ y = ln(x) - 0.6931 $\n"
   ]
  },
  {
   "cell_type": "code",
   "execution_count": 1,
   "metadata": {},
   "outputs": [
    {
     "ename": "ModuleNotFoundError",
     "evalue": "No module named 'sympy'",
     "output_type": "error",
     "traceback": [
      "\u001b[0;31m---------------------------------------------------------------------------\u001b[0m",
      "\u001b[0;31mModuleNotFoundError\u001b[0m                       Traceback (most recent call last)",
      "\u001b[0;32m<ipython-input-1-52185c248209>\u001b[0m in \u001b[0;36m<module>\u001b[0;34m\u001b[0m\n\u001b[1;32m      4\u001b[0m \u001b[0;32mimport\u001b[0m \u001b[0mmatplotlib\u001b[0m\u001b[0;34m.\u001b[0m\u001b[0mpyplot\u001b[0m \u001b[0;32mas\u001b[0m \u001b[0mplt\u001b[0m\u001b[0;34m\u001b[0m\u001b[0;34m\u001b[0m\u001b[0m\n\u001b[1;32m      5\u001b[0m \u001b[0;32mimport\u001b[0m \u001b[0mmatplotlib\u001b[0m\u001b[0;34m.\u001b[0m\u001b[0mgridspec\u001b[0m \u001b[0;32mas\u001b[0m \u001b[0mgridspec\u001b[0m\u001b[0;34m\u001b[0m\u001b[0;34m\u001b[0m\u001b[0m\n\u001b[0;32m----> 6\u001b[0;31m \u001b[0;32mimport\u001b[0m \u001b[0msympy\u001b[0m\u001b[0;34m\u001b[0m\u001b[0;34m\u001b[0m\u001b[0m\n\u001b[0m\u001b[1;32m      7\u001b[0m \u001b[0;34m\u001b[0m\u001b[0m\n\u001b[1;32m      8\u001b[0m \u001b[0mfn_string\u001b[0m \u001b[0;34m=\u001b[0m \u001b[0;34m\"ln(x) - 0.6931\"\u001b[0m\u001b[0;34m\u001b[0m\u001b[0;34m\u001b[0m\u001b[0m\n",
      "\u001b[0;31mModuleNotFoundError\u001b[0m: No module named 'sympy'"
     ]
    }
   ],
   "source": [
    "%matplotlib inline\n",
    "from math import *\n",
    "import numpy as np\n",
    "import matplotlib.pyplot as plt\n",
    "import matplotlib.gridspec as gridspec\n",
    "import sympy\n",
    "\n",
    "fn_string = \"ln(x) - 0.6931\"\n",
    "function_syms = sympy.latex(sympy.sympify(fn_string))\n",
    "\n",
    "x = np.linspace(0.01,5)\n",
    "y = [log(num)-0.6931 for num in x] \n",
    "\n",
    "fig = plt.figure(figsize=(5,5))\n",
    "\n",
    "plt.plot(x,y)\n",
    "plt.title(f\"Plot of ${function_syms}$\")\n",
    "\n",
    "plt.tight_layout()\n",
    "plt.show()\n"
   ]
  },
  {
   "cell_type": "markdown",
   "metadata": {},
   "source": [
    "Let's examine the following ODE problem, where $a_1(x)=1$, $a_0(x)=-1$, and $b(x)=\\frac{-c}{x^2}$ :\n",
    "\n",
    "$y' = y - \\frac{c}{x^2} $\n",
    "\n",
    "One thing that might be helpful is to make a plot of $y'$. Here we are actually going to make what is known as a plot of the *streamlines* which just means lines that are tangent everywhere to $y'$."
   ]
  },
  {
   "cell_type": "code",
   "execution_count": null,
   "metadata": {},
   "outputs": [],
   "source": [
    "%matplotlib inline\n",
    "import numpy as np\n",
    "import matplotlib.pyplot as plt\n",
    "import matplotlib.gridspec as gridspec\n",
    "import sympy\n",
    "\n",
    "yprime_string = \"y - c/x**2\"\n",
    "function_syms = sympy.latex(sympy.sympify(yprime_string))\n",
    "\n",
    "w = 3\n",
    "c = 1\n",
    "y, x = np.mgrid[-w:w:100j, -w:w:100j]\n",
    "u = x/x\n",
    "v = y-1/x**2\n",
    "speed = np.sqrt(u**2 + v**2)\n",
    "\n",
    "fig = plt.figure(figsize=(12, 15))\n",
    "gs = gridspec.GridSpec(nrows=3, ncols=2, height_ratios=[1, 1, 2])\n",
    "\n",
    "#  Varying density along a streamline\n",
    "ax0 = fig.add_subplot(gs[0, 0])\n",
    "ax0.streamplot(x, y, u, v, density=1.5)\n",
    "ax0.set_title(f\"Streamlines of ${function_syms}$\")\n",
    "\n",
    "plt.tight_layout()\n",
    "plt.show()"
   ]
  },
  {
   "cell_type": "markdown",
   "metadata": {},
   "source": [
    "The takeaway from this graph is there are *many solutions* to the original differential equation.\n",
    "\n",
    "The initial value is like specifying a starting point on one of the streamlines and following this streamline along - giving a unique solution for that initial value.\n",
    "\n",
    "\n"
   ]
  },
  {
   "cell_type": "code",
   "execution_count": null,
   "metadata": {},
   "outputs": [],
   "source": [
    "%matplotlib inline\n",
    "import numpy as np\n",
    "import matplotlib.pyplot as plt\n",
    "import matplotlib.gridspec as gridspec\n",
    "\n",
    "w = 3\n",
    "c = 1\n",
    "y, x = np.mgrid[-w:w:100j, -w:w:100j]\n",
    "u = x/x\n",
    "v = y-1/x**2\n",
    "speed = np.sqrt(u**2 + v**2)\n",
    "\n",
    "fig = plt.figure(figsize=(12, 15))\n",
    "gs = gridspec.GridSpec(nrows=3, ncols=2, height_ratios=[1, 1, 2])\n",
    "\n",
    "# Controlling the starting points of the streamlines\n",
    "seed_points = np.array([[1,-1,-2], [0,2,-2]])\n",
    "\n",
    "ax3 = fig.add_subplot(gs[1, 1])\n",
    "strm = ax3.streamplot(x, y, u, v, linewidth=2,\n",
    "                       start_points=seed_points.T)\n",
    "ax3.set_title('Solution of the ODE with a few specified initital values')\n",
    "\n",
    "# Displaying the starting points with blue symbols.\n",
    "ax3.plot(seed_points[0], seed_points[1], 'bo')\n",
    "ax3.set(xlim=(-w, w), ylim=(-w, w))\n",
    "plt.tight_layout()\n",
    "plt.show()\n"
   ]
  },
  {
   "cell_type": "markdown",
   "metadata": {},
   "source": [
    "## Explicit versus Implicit Techniques\n",
    "\n",
    "The above graphs are helpful, but what we really need are numerical solutions for $y(x)$. So we now introduce techniques to solve ODEs numerically.\n",
    "\n",
    "Before we jump into the details though, we need to make some definitions.\n",
    "\n",
    "Through all of the techniques we discuss to solve ODEs we will call the technique *F* ... for example:\n",
    "\n",
    "$ y_{i+1} = F(x_i,x_{i+1},y_i) $\n",
    "\n",
    "The above method would be *explicit* because the formula for finding $y_{i+1}$ would be given.\n",
    "\n",
    "An *implicit* method would be iterative to find each $y_{i+1}$, that is:\n",
    "\n",
    "$ y_{i+1} = F(x_i,x_{i+1},y_{i+1}) $\n",
    "\n",
    "So in an *implicit* method $y_{i+1}$ would appear on both sides of the equation, which may be OK, but it might be that finding the $y_{i+1}$ to satisfy the equation is non-linear and requires using a *root-finding* technique such as *Secant* method.\n"
   ]
  },
  {
   "cell_type": "markdown",
   "metadata": {},
   "source": [
    "## Error\n",
    "\n",
    "A convenient way to think about ODE solution is as a way of estimating the slope of $y$ at the point ($x_i$,$y_i$) and using that slope to predict the next point ($x_{i+1}$,$y_{i+1}$) as shown in the figure below.\n",
    "\n",
    "![image info](./explicit_onestep.jpg)\n",
    "\n",
    "\n",
    "\n"
   ]
  },
  {
   "cell_type": "markdown",
   "metadata": {},
   "source": [
    "In equation form this is represented by\n",
    "\n",
    "$y_{i+1} = y_i + Slope \\cdot h $\n",
    "\n",
    "There are many ways to try to estimate the $Slope$ to use. Some only use one interval and one previous value of $y_i$ and some use multiple values of $x$ that lie in between $x_i$ and $x_{i+1}$.\n",
    "\n",
    "There are two kinds of error that occur in solving ODEs: *Truncation* error and *Round-off* error. As discussed many times in class, round-off error is the unavoidable issue of the limited precision with which the decimals are preserved in calculations. Truncation error is due to the imperfectness of the estimate of the $Slope$. For each step from $x_i$ to $x_{i+1}$ there will be a *local* truncation error and over the entire domain of the solution there will be a *global* truncation error (the sum of the local truncation errors).\n",
    "\n",
    "The graph below demonstrates how local and global error work. Here we have used the simplest algorithm there is, called *Euler's Method*, to show how local truncation error accumulates. By the way Euler's method just uses the value of $\\frac{dy}{dx}\\rvert_{x_i,y_i}$ as the value of $Slope$.\n",
    "\n",
    "\n",
    "![image info](./euler_error.jpg)"
   ]
  },
  {
   "cell_type": "code",
   "execution_count": null,
   "metadata": {},
   "outputs": [],
   "source": []
  }
 ],
 "metadata": {
  "kernelspec": {
   "display_name": "Python 3",
   "language": "python",
   "name": "python3"
  },
  "language_info": {
   "codemirror_mode": {
    "name": "ipython",
    "version": 3
   },
   "file_extension": ".py",
   "mimetype": "text/x-python",
   "name": "python",
   "nbconvert_exporter": "python",
   "pygments_lexer": "ipython3",
   "version": "3.8.6"
  }
 },
 "nbformat": 4,
 "nbformat_minor": 4
}
